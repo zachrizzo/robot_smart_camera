{
 "cells": [
  {
   "cell_type": "code",
   "execution_count": 4,
   "metadata": {},
   "outputs": [
    {
     "ename": "ImportError",
     "evalue": "attempted relative import with no known parent package",
     "output_type": "error",
     "traceback": [
      "\u001b[0;31m---------------------------------------------------------------------------\u001b[0m",
      "\u001b[0;31mImportError\u001b[0m                               Traceback (most recent call last)",
      "Cell \u001b[0;32mIn[4], line 3\u001b[0m\n\u001b[1;32m      1\u001b[0m \u001b[38;5;28;01mimport\u001b[39;00m\u001b[38;5;250m \u001b[39m\u001b[38;5;21;01mos\u001b[39;00m\n\u001b[1;32m      2\u001b[0m \u001b[38;5;28;01mimport\u001b[39;00m\u001b[38;5;250m \u001b[39m\u001b[38;5;21;01masyncio\u001b[39;00m\n\u001b[0;32m----> 3\u001b[0m \u001b[38;5;28;01mfrom\u001b[39;00m\u001b[38;5;250m \u001b[39m\u001b[38;5;21;01m.\u001b[39;00m\u001b[38;5;21;01msrc\u001b[39;00m\u001b[38;5;21;01m.\u001b[39;00m\u001b[38;5;21;01mrealsense_robot\u001b[39;00m\u001b[38;5;21;01m.\u001b[39;00m\u001b[38;5;21;01mrealsense_robot\u001b[39;00m\u001b[38;5;21;01m.\u001b[39;00m\u001b[38;5;21;01mai_agent\u001b[39;00m\u001b[38;5;21;01m.\u001b[39;00m\u001b[38;5;21;01mgraph\u001b[39;00m\u001b[38;5;250m \u001b[39m\u001b[38;5;28;01mimport\u001b[39;00m MultiAgentSystem\n\u001b[1;32m      4\u001b[0m \u001b[38;5;28;01mfrom\u001b[39;00m\u001b[38;5;250m \u001b[39m\u001b[38;5;21;01m.\u001b[39;00m\u001b[38;5;21;01msrc\u001b[39;00m\u001b[38;5;21;01m.\u001b[39;00m\u001b[38;5;21;01mrealsense_robot\u001b[39;00m\u001b[38;5;21;01m.\u001b[39;00m\u001b[38;5;21;01mrealsense_robot\u001b[39;00m\u001b[38;5;21;01m.\u001b[39;00m\u001b[38;5;21;01mai_agent\u001b[39;00m\u001b[38;5;21;01m.\u001b[39;00m\u001b[38;5;21;01magents\u001b[39;00m\u001b[38;5;21;01m.\u001b[39;00m\u001b[38;5;21;01mclaude_agent\u001b[39;00m\u001b[38;5;250m \u001b[39m\u001b[38;5;28;01mimport\u001b[39;00m ClaudeAgent\n\u001b[1;32m      5\u001b[0m \u001b[38;5;28;01mfrom\u001b[39;00m\u001b[38;5;250m \u001b[39m\u001b[38;5;21;01m.\u001b[39;00m\u001b[38;5;21;01msrc\u001b[39;00m\u001b[38;5;21;01m.\u001b[39;00m\u001b[38;5;21;01mrealsense_robot\u001b[39;00m\u001b[38;5;21;01m.\u001b[39;00m\u001b[38;5;21;01mrealsense_robot\u001b[39;00m\u001b[38;5;21;01m.\u001b[39;00m\u001b[38;5;21;01mai_agent\u001b[39;00m\u001b[38;5;21;01m.\u001b[39;00m\u001b[38;5;21;01magents\u001b[39;00m\u001b[38;5;21;01m.\u001b[39;00m\u001b[38;5;21;01mopenai_agent\u001b[39;00m\u001b[38;5;250m \u001b[39m\u001b[38;5;28;01mimport\u001b[39;00m OpenAIAgent\n",
      "\u001b[0;31mImportError\u001b[0m: attempted relative import with no known parent package"
     ]
    }
   ],
   "source": [
    "import os\n",
    "import asyncio\n",
    "from src.realsense_robot.realsense_robot.ai_agent.graph import MultiAgentSystem\n",
    "from src.realsense_robot.realsense_robot.ai_agent.agents.claude_agent import ClaudeAgent\n",
    "from src.realsense_robot.realsense_robot.ai_agent.agents.openai_agent import OpenAIAgent\n",
    "from src.realsense_robot.realsense_robot.ai_agent.agents.ollama_agent import OllamaAgent\n",
    "\n",
    "class AgentInterface:\n",
    "    def __init__(self):\n",
    "        # Initialize multi-agent system\n",
    "        self.agent_system = MultiAgentSystem()\n",
    "        \n",
    "        # Initialize agents with environment variables\n",
    "        self._setup_agents()\n",
    "        \n",
    "    def _setup_agents(self):\n",
    "        \"\"\"Set up all available agents using environment variables\"\"\"\n",
    "        # Claude agent\n",
    "        if os.getenv('ANTHROPIC_API_KEY'):\n",
    "            self.agent_system.add_agent(ClaudeAgent(api_key=os.getenv('ANTHROPIC_API_KEY')))\n",
    "            \n",
    "        # OpenAI agent\n",
    "        if os.getenv('OPENAI_API_KEY'):\n",
    "            self.agent_system.add_agent(OpenAIAgent(api_key=os.getenv('OPENAI_API_KEY')))\n",
    "            \n",
    "        # Ollama agent\n",
    "        if os.getenv('OLLAMA_BASE_URL'):\n",
    "            self.agent_system.add_agent(OllamaAgent(base_url=os.getenv('OLLAMA_BASE_URL')))\n",
    "\n",
    "    async def chat(self, message: str):\n",
    "        \"\"\"Process a message and return the response\"\"\"\n",
    "        try:\n",
    "            return await self.agent_system.process_message(message)\n",
    "        except Exception as e:\n",
    "            return f\"Error processing message: {str(e)}\"\n",
    "\n",
    "    def switch_agent(self, agent_name: str):\n",
    "        \"\"\"Switch to a different agent\"\"\"\n",
    "        success = self.agent_system.switch_agent(agent_name)\n",
    "        return f\"Switched to {agent_name}\" if success else f\"Failed to switch to {agent_name}\"\n",
    "\n",
    "async def main():\n",
    "    agent = AgentInterface()\n",
    "    \n",
    "    # Example conversation\n",
    "    while True:\n",
    "        try:\n",
    "            message = input(\"You: \")\n",
    "            if message.lower() in ['exit', 'quit']:\n",
    "                break\n",
    "                \n",
    "            response = await agent.chat(message)\n",
    "            print(f\"Agent: {response}\")\n",
    "            \n",
    "        except KeyboardInterrupt:\n",
    "            break\n",
    "\n",
    "if __name__ == '__main__':\n",
    "    asyncio.run(main()) "
   ]
  }
 ],
 "metadata": {
  "kernelspec": {
   "display_name": ".venv",
   "language": "python",
   "name": "python3"
  },
  "language_info": {
   "codemirror_mode": {
    "name": "ipython",
    "version": 3
   },
   "file_extension": ".py",
   "mimetype": "text/x-python",
   "name": "python",
   "nbconvert_exporter": "python",
   "pygments_lexer": "ipython3",
   "version": "3.12.3"
  }
 },
 "nbformat": 4,
 "nbformat_minor": 2
}
